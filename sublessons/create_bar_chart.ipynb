{
 "cells": [
  {
   "cell_type": "code",
   "execution_count": 90,
   "metadata": {},
   "outputs": [],
   "source": [
    "import json\n",
    "import requests\n",
    "import matplotlib.pyplot as plt\n",
    "import pickle"
   ]
  },
  {
   "cell_type": "code",
   "execution_count": 8,
   "metadata": {},
   "outputs": [],
   "source": [
    "with open('/Users/johnmaxbarry/.ssh/cornell_ornithology.json', 'rb') as read_file:\n",
    "    bird_key = json.load(read_file)"
   ]
  },
  {
   "cell_type": "code",
   "execution_count": 82,
   "metadata": {},
   "outputs": [],
   "source": [
    "headers = {'X-eBirdApiToken': bird_key['key']}\n",
    "params = {'back':30}\n",
    "central_park = requests.get('https://api.ebird.org/v2/data/obs/L191106/recent', headers=headers, params=params)"
   ]
  },
  {
   "cell_type": "code",
   "execution_count": 83,
   "metadata": {},
   "outputs": [
    {
     "data": {
      "text/plain": [
       "84"
      ]
     },
     "execution_count": 83,
     "metadata": {},
     "output_type": "execute_result"
    }
   ],
   "source": [
    "central_park_j = central_park.json()\n",
    "\n",
    "bird_list = []\n",
    "howmany_list = []\n",
    "for obs in central_park_j:\n",
    "    try:\n",
    "        howmany_list.append(obs['howMany'])\n",
    "        bird_list.append(obs['comName'])\n",
    "    except KeyError:\n",
    "        continue\n",
    "        \n",
    "len(howmany_list   ) "
   ]
  },
  {
   "cell_type": "code",
   "execution_count": 85,
   "metadata": {},
   "outputs": [
    {
     "data": {
      "text/plain": [
       "defaultdict(int,\n",
       "            {'Canada Goose': 100,\n",
       "             'Northern Shoveler': 50,\n",
       "             'Mallard': 25,\n",
       "             'Rock Pigeon': 18,\n",
       "             'Mourning Dove': 8,\n",
       "             'Ring-billed Gull': 4,\n",
       "             'Herring Gull': 3,\n",
       "             \"Cooper's Hawk\": 1,\n",
       "             'Red-tailed Hawk': 3,\n",
       "             'Yellow-bellied Sapsucker': 1,\n",
       "             'Red-bellied Woodpecker': 4,\n",
       "             'Downy Woodpecker': 2,\n",
       "             'Northern Flicker': 2,\n",
       "             'American Kestrel': 1,\n",
       "             'Blue Jay': 29,\n",
       "             'American Crow': 2,\n",
       "             'Common Raven': 1,\n",
       "             'Black-capped Chickadee': 4,\n",
       "             'Tufted Titmouse': 28,\n",
       "             'White-breasted Nuthatch': 4,\n",
       "             'Carolina Wren': 1,\n",
       "             'European Starling': 45,\n",
       "             'American Robin': 23,\n",
       "             'House Sparrow': 55,\n",
       "             'House Finch': 5,\n",
       "             'Purple Finch': 1,\n",
       "             'American Goldfinch': 7,\n",
       "             'Fox Sparrow': 2,\n",
       "             'Dark-eyed Junco': 4,\n",
       "             'White-throated Sparrow': 18,\n",
       "             'Common Grackle': 50,\n",
       "             'Northern Cardinal': 4,\n",
       "             'Ruddy Duck': 20,\n",
       "             'Great Black-backed Gull': 10,\n",
       "             'Peregrine Falcon': 1,\n",
       "             'Bufflehead': 5,\n",
       "             'Hooded Merganser': 5,\n",
       "             'American Coot': 1,\n",
       "             'Gadwall': 2,\n",
       "             'Barred Owl': 1,\n",
       "             'Pine Siskin': 3,\n",
       "             'Song Sparrow': 4,\n",
       "             'Red-winged Blackbird': 1,\n",
       "             'Hermit Thrush': 1,\n",
       "             'Cape May Warbler': 1,\n",
       "             'Northern Mockingbird': 1,\n",
       "             'American Black Duck': 2,\n",
       "             'Red-shouldered Hawk': 1,\n",
       "             'Brown Creeper': 1,\n",
       "             'Rusty Blackbird': 1,\n",
       "             'Swamp Sparrow': 2,\n",
       "             'Common Redpoll': 1,\n",
       "             'Chipping Sparrow': 1,\n",
       "             'American Tree Sparrow': 1,\n",
       "             'Great Blue Heron': 1,\n",
       "             'Gray Catbird': 1,\n",
       "             'Bald Eagle': 1,\n",
       "             'Red-breasted Nuthatch': 1,\n",
       "             'Great Horned Owl': 1,\n",
       "             'Double-crested Cormorant': 1,\n",
       "             'Turkey Vulture': 1,\n",
       "             'Golden-crowned Kinglet': 1,\n",
       "             'Snow Goose': 110,\n",
       "             'Brown Thrasher': 1,\n",
       "             'Cedar Waxwing': 12,\n",
       "             'Wood Duck': 5,\n",
       "             'Brant': 0,\n",
       "             'Winter Wren': 1,\n",
       "             'Sharp-shinned Hawk': 2,\n",
       "             'Red Crossbill': 1,\n",
       "             'Ruby-crowned Kinglet': 1,\n",
       "             'Brown-headed Cowbird': 3,\n",
       "             'Yellow-rumped Warbler': 2,\n",
       "             'Mallard x American Black Duck (hybrid)': 2,\n",
       "             'Evening Grosbeak': 4,\n",
       "             'Eastern Bluebird': 1,\n",
       "             'Common Loon': 1,\n",
       "             'Green-winged Teal': 1,\n",
       "             'Northern Saw-whet Owl': 1,\n",
       "             'White-crowned Sparrow': 1,\n",
       "             'Merlin': 1,\n",
       "             'Blue-headed Vireo': 1,\n",
       "             'Black Vulture': 2,\n",
       "             'Virginia Rail': 1,\n",
       "             'Pine Warbler': 1})"
      ]
     },
     "execution_count": 85,
     "metadata": {},
     "output_type": "execute_result"
    }
   ],
   "source": [
    "from collections import defaultdict\n",
    "central_park_j = central_park.json()\n",
    "\n",
    "bird_count_dict = defaultdict(int)\n",
    "for obs in central_park_j:\n",
    "    try:\n",
    "        bird_count_dict[obs['comName']] += (obs['howMany'])\n",
    "        \n",
    "    except KeyError:\n",
    "        continue\n",
    "        \n",
    "bird_count_dict  "
   ]
  },
  {
   "cell_type": "code",
   "execution_count": 91,
   "metadata": {},
   "outputs": [],
   "source": [
    "with open('data/central_park_birds', 'wb') as write_file:\n",
    "    pickle.dump(bird_count_dict, write_file)"
   ]
  },
  {
   "cell_type": "code",
   "execution_count": 86,
   "metadata": {},
   "outputs": [],
   "source": [
    "bird_list = sorted(bird_count_dict.items(), key = lambda x: x[1], reverse = True)"
   ]
  },
  {
   "cell_type": "markdown",
   "metadata": {},
   "source": [
    "# Task 1\n",
    "Plot "
   ]
  },
  {
   "cell_type": "code",
   "execution_count": 87,
   "metadata": {},
   "outputs": [],
   "source": [
    "label = [bird[0] for bird in bird_list[:10]]\n",
    "count = [bird[1] for bird in bird_list[:10]]\n"
   ]
  },
  {
   "cell_type": "code",
   "execution_count": 89,
   "metadata": {},
   "outputs": [
    {
     "data": {
      "text/plain": [
       "Text(0.5, 1.0, 'Top Bird Sightings in Central Park\\n Last 30 Days')"
      ]
     },
     "execution_count": 89,
     "metadata": {},
     "output_type": "execute_result"
    },
    {
     "data": {
      "image/png": "[encoded data removed]",
      "text/plain": [
       "<Figure size 432x288 with 1 Axes>"
      ]
     },
     "metadata": {
      "needs_background": "light"
     },
     "output_type": "display_data"
    }
   ],
   "source": [
    "fig, ax = plt.subplots()\n",
    "ax.barh( label, count)\n",
    "ax.set_title('Top Bird Sightings in Central Park\\n Last 30 Days')"
   ]
  },
  {
   "cell_type": "code",
   "execution_count": null,
   "metadata": {},
   "outputs": [],
   "source": []
  }
 ],
 "metadata": {
  "kernelspec": {
   "display_name": "learn-env_3",
   "language": "python",
   "name": "learn-env_3"
  },
  "language_info": {
   "codemirror_mode": {
    "name": "ipython",
    "version": 3
   },
   "file_extension": ".py",
   "mimetype": "text/x-python",
   "name": "python",
   "nbconvert_exporter": "python",
   "pygments_lexer": "ipython3",
   "version": "3.8.5"
  }
 },
 "nbformat": 4,
 "nbformat_minor": 4
}
